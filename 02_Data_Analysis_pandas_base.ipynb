{
 "cells": [
  {
   "cell_type": "code",
   "execution_count": 1,
   "metadata": {},
   "outputs": [
    {
     "name": "stdout",
     "output_type": "stream",
     "text": [
      "   姓名  年龄 性别   身高  体重\n",
      "0  张三  25  男  175  70\n",
      "1  李四  30  男  180  75\n",
      "2  王五  28  女  165  55\n",
      "3  赵六  35  男  170  80\n",
      "缺失值情况：\n",
      "姓名    0\n",
      "年龄    0\n",
      "性别    0\n",
      "身高    0\n",
      "体重    0\n",
      "dtype: int64\n",
      "\n",
      "重复值情况：\n",
      "0\n",
      "-------------------------------\n",
      "\n",
      "平均年龄：29.5 岁\n",
      "平均身高：172.5 cm\n",
      "平均体重：70.0 kg\n"
     ]
    }
   ],
   "source": [
    "import pandas as pd\n",
    "\n",
    "# 读取CSV文件\n",
    "df = pd.read_csv('./static/02_data.csv')\n",
    "\n",
    "# 查看数据的前几行\n",
    "print(df.head())\n",
    "\n",
    "# 数据清洗\n",
    "# 1. 检查缺失值\n",
    "print(\"缺失值情况：\")\n",
    "print(df.isnull().sum())\n",
    "\n",
    "# 2. 检查重复值\n",
    "print(\"\\n重复值情况：\")\n",
    "print(df.duplicated().sum())\n",
    "print(\"-------------------------------\")\n",
    "\n",
    "# 如果有缺失值或重复值，可以根据实际情况进行处理，例如删除重复值 df.drop_duplicates() 或填充缺失值 df.fillna()。\n",
    "\n",
    "# 数据分析\n",
    "# 计算平均年龄、身高和体重\n",
    "average_age = df['年龄'].mean()\n",
    "average_height = df['身高'].mean()\n",
    "average_weight = df['体重'].mean()\n",
    "\n",
    "print(f\"\\n平均年龄：{average_age} 岁\")\n",
    "print(f\"平均身高：{average_height} cm\")\n",
    "print(f\"平均体重：{average_weight} kg\")"
   ]
  },
  {
   "cell_type": "code",
   "execution_count": null,
   "metadata": {},
   "outputs": [],
   "source": []
  }
 ],
 "metadata": {
  "kernelspec": {
   "display_name": "chatglm",
   "language": "python",
   "name": "python3"
  },
  "language_info": {
   "codemirror_mode": {
    "name": "ipython",
    "version": 3
   },
   "file_extension": ".py",
   "mimetype": "text/x-python",
   "name": "python",
   "nbconvert_exporter": "python",
   "pygments_lexer": "ipython3",
   "version": "3.8.13"
  },
  "orig_nbformat": 4
 },
 "nbformat": 4,
 "nbformat_minor": 2
}

{
 "cells": [
  {
   "cell_type": "code",
   "execution_count": 1,
   "metadata": {},
   "outputs": [
    {
     "name": "stdout",
     "output_type": "stream",
     "text": [
      "Hello: 1\n",
      "Python: 3\n",
      "is: 2\n",
      "a: 1\n",
      "widely: 1\n",
      "used: 1\n",
      "programming: 1\n",
      "language: 1\n",
      "known: 1\n",
      "for: 1\n",
      "its: 1\n",
      "simplicity: 1\n",
      "and: 1\n",
      "versatility: 1\n"
     ]
    }
   ],
   "source": [
    "# 打开文件并读取内容\n",
    "with open('./static/01_file_str.txt', 'r') as file:\n",
    "    text = file.read()\n",
    "\n",
    "# 将文本内容分割成单词，以空格和换行符为分隔符\n",
    "words = text.split()\n",
    "\n",
    "# 初始化一个空字典用于存储单词计数\n",
    "word_count = {}\n",
    "\n",
    "# 遍历单词列表并统计单词出现次数\n",
    "for word in words:\n",
    "    # 去除标点符号\n",
    "    word = word.strip('.,!?()[]{}\"\\'')\n",
    "    # 如有需要可以转换为小写\n",
    "    # word = word.strip('.,!?()[]{}\"\\'').lower()\n",
    "    if word:\n",
    "        if word in word_count:\n",
    "            word_count[word] += 1\n",
    "        else:\n",
    "            word_count[word] = 1\n",
    "\n",
    "# 输出单词计数结果\n",
    "for word, count in word_count.items():\n",
    "    print(f'{word}: {count}')"
   ]
  },
  {
   "cell_type": "code",
   "execution_count": null,
   "metadata": {},
   "outputs": [],
   "source": []
  }
 ],
 "metadata": {
  "kernelspec": {
   "display_name": "Python 3",
   "language": "python",
   "name": "python3"
  },
  "language_info": {
   "codemirror_mode": {
    "name": "ipython",
    "version": 3
   },
   "file_extension": ".py",
   "mimetype": "text/x-python",
   "name": "python",
   "nbconvert_exporter": "python",
   "pygments_lexer": "ipython3",
   "version": "3.10.0"
  },
  "orig_nbformat": 4
 },
 "nbformat": 4,
 "nbformat_minor": 2
}
